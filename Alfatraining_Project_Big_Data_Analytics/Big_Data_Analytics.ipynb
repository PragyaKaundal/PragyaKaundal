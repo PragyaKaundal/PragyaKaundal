{
 "cells": [
  {
   "cell_type": "markdown",
   "metadata": {},
   "source": [
    "<H1> Crowdfunding </H1>\n",
    "\n",
    "The subject of the dataset is crowdfunding. This is a form of financing in which different investors give different amounts of money for certain projects. So it is earmarked funding. The basis is the history of a crowdfunding platform. All projects are completed projects, i.e. the crowdfunding period has expired. There are NO duplicates in the record.\n",
    "\n",
    "The split data record contains the following columns (including meaning):\n",
    "\n",
    "- funded_amount ... amount in USD received after the crowdfunding period has expired\n",
    "- loan_amount ... target amount (amount that you wanted to achieve with funding) in USD\n",
    "- activity ... Sub-category to which the goal of crowdfunding belongs thematically\n",
    "- sector ... main category in which the crowdfunding topic falls\n",
    "- use ... Brief description of what the money should be used for\n",
    "- country_code ... Country code according to ISO standard\n",
    "- country ... country name according to ISO standard\n",
    "- region ... region\n",
    "- currency ... Currency in which the funded_amount was then paid out\n",
    "- term in months ... Duration over which the loan was paid out\n",
    "- lender_count ... Lender (i.e. how many people gave money for the project)\n",
    "- borrower_genders ... gender and number of borrowers, i.e. those who initiated the crowdfunding project\n",
    "- repayment interval ... repayment modalities / frequency"
   ]
  },
  {
   "cell_type": "markdown",
   "metadata": {},
   "source": [
    "<H2> Import the required modules </H2>"
   ]
  },
  {
   "cell_type": "code",
   "execution_count": null,
   "metadata": {},
   "outputs": [],
   "source": [
    "# import the required libraries\n",
    "import pandas as pd\n",
    "import numpy as np\n",
    "import plotly_express as px\n",
    "\n",
    "# The following libraries are required only for converting plotly express plots to html\n",
    "# otherwise when one tries to download Jupyter notebook as html file, plotly express plots don't appear\n",
    "import plotly.offline as py\n",
    "py.init_notebook_mode(connected=False)\n",
    "\n",
    "# setting to avoid unnecessary chain assignment warnings\n",
    "pd.options.mode.chained_assignment = None"
   ]
  },
  {
   "cell_type": "markdown",
   "metadata": {},
   "source": [
    "<H2> Data Preprocessing </H2>\n",
    "\n",
    "<H3> Read the data record </H3>\n"
   ]
  },
  {
   "cell_type": "code",
   "execution_count": null,
   "metadata": {},
   "outputs": [],
   "source": [
    "# find out the separator of the first csv file\n",
    "\n",
    "# The follwing ParseError appears when \"/n\" as separator is used.\n",
    "# ParserError: Error could possibly be due to quotes being ignored when a multi-char delimiter is used.\n",
    "# df1 = pd.read_csv(filepath_or_buffer=\"part1.csv\", sep=\"/n\", engine=\"python\")\n",
    "\n",
    "df1 = pd.read_csv(filepath_or_buffer=\"part1.csv\", sep=\"//n\", engine=\"python\")\n",
    "df1.head()"
   ]
  },
  {
   "cell_type": "code",
   "execution_count": null,
   "metadata": {},
   "outputs": [],
   "source": [
    "# \",\" is the separator\n",
    "# now read again the csv file with the new separator into the DataFrame\n",
    "# To avoid the column, Unnamed 0, use index_col\n",
    "df_part1 = pd.read_csv(\n",
    "    filepath_or_buffer=\"part1.csv\",\n",
    "    sep=',',\n",
    "    engine='python',  # engine = 'python' otherwise it receives a warning\n",
    "    index_col=0)\n",
    "df_part1.head()"
   ]
  },
  {
   "cell_type": "code",
   "execution_count": null,
   "metadata": {},
   "outputs": [],
   "source": [
    "# find out the separator of the second csv file\n",
    "\n",
    "# The follwing ParseError appears when \"/n\" as separator is used.\n",
    "# ParserError: Error could possibly be due to quotes being ignored when a multi-char delimiter is used.\n",
    "# df1 = pd.read_csv(filepath_or_buffer=\"part2.csv\", sep=\"/n\", engine=\"python\")\n",
    "\n",
    "df2 = pd.read_csv(filepath_or_buffer=\"part2.csv\", sep=\"//n\", engine=\"python\")\n",
    "df2.head()"
   ]
  },
  {
   "cell_type": "code",
   "execution_count": null,
   "metadata": {},
   "outputs": [],
   "source": [
    "# \"#\" is the separator\n",
    "# now read again the csv file with the new separator into the DataFrame\n",
    "# To avoid the column, Unnamed 0, use index_col\n",
    "df_part2 = pd.read_csv(filepath_or_buffer=\"part2.csv\",\n",
    "                       sep='#',\n",
    "                       engine='python',\n",
    "                       index_col=0)  # engine='python' da sonst Warning erhält\n",
    "df_part2.head()"
   ]
  },
  {
   "cell_type": "markdown",
   "metadata": {},
   "source": [
    "<H3> Properties </H3>"
   ]
  },
  {
   "cell_type": "code",
   "execution_count": null,
   "metadata": {},
   "outputs": [],
   "source": [
    "# check the columns present in the first dataframe\n",
    "df_part1.columns"
   ]
  },
  {
   "cell_type": "code",
   "execution_count": null,
   "metadata": {},
   "outputs": [],
   "source": [
    "# check how many rows and coulumns are present in the first dataframe\n",
    "df_part1.shape"
   ]
  },
  {
   "cell_type": "code",
   "execution_count": null,
   "metadata": {},
   "outputs": [],
   "source": [
    "# check the columns present in the second dataframe\n",
    "df_part2.columns"
   ]
  },
  {
   "cell_type": "code",
   "execution_count": null,
   "metadata": {},
   "outputs": [],
   "source": [
    "# check how many rows and coulumns are present in the second dataframe\n",
    "df_part2.shape"
   ]
  },
  {
   "cell_type": "markdown",
   "metadata": {},
   "source": [
    "<B> Conclusion </B>\n",
    "\n",
    "- Both of the dataframes obtained after parsing the two csv files, contain the same columns. This means that we need to concatenate the data."
   ]
  },
  {
   "cell_type": "markdown",
   "metadata": {},
   "source": [
    "<H3> Combine the two dataframes</H3>"
   ]
  },
  {
   "cell_type": "code",
   "execution_count": null,
   "metadata": {},
   "outputs": [],
   "source": [
    "# combine the rows of the two dataframes as both have the same columns\n",
    "# the concatenation will create a new integer index when ignore_index is set to true\n",
    "df_part3 = pd.concat([df_part1, df_part2], ignore_index=True)\n",
    "df_part3.head()"
   ]
  },
  {
   "cell_type": "code",
   "execution_count": null,
   "metadata": {},
   "outputs": [],
   "source": [
    "# check how many rows and coulumns are present in the dataframe obtained after concatinating the two dataframes\n",
    "df_part3.shape"
   ]
  },
  {
   "cell_type": "code",
   "execution_count": null,
   "metadata": {},
   "outputs": [],
   "source": [
    "# find if any duplicated data is present\n",
    "duplicated_rows = df_part3[df_part3.duplicated()]\n",
    "duplicated_rows.head()"
   ]
  },
  {
   "cell_type": "code",
   "execution_count": null,
   "metadata": {},
   "outputs": [],
   "source": [
    "# drop the duplicate rows from the concatanated dataframe\n",
    "df_part4 = df_part3.drop_duplicates(subset=df_part3.columns)\n",
    "df_part4.head()"
   ]
  },
  {
   "cell_type": "code",
   "execution_count": null,
   "metadata": {},
   "outputs": [],
   "source": [
    "# check how many rows and coulumns are present in the dataframe obtained after dropping the duplicate rows\n",
    "df_part4.shape"
   ]
  },
  {
   "cell_type": "markdown",
   "metadata": {},
   "source": [
    "<H3> Missing values </H3>\n",
    "\n",
    "<H4> Find out the synonyms </H4>"
   ]
  },
  {
   "cell_type": "code",
   "execution_count": null,
   "metadata": {},
   "outputs": [],
   "source": [
    "#get an overview of the data type of the contents of the columns\n",
    "# and missing values present\n",
    "# and memory usage\n",
    "df_part4.info()"
   ]
  },
  {
   "cell_type": "code",
   "execution_count": null,
   "metadata": {},
   "outputs": [],
   "source": [
    "# use describe to get the statistical summary\n",
    "df_part4.describe(include='all')"
   ]
  },
  {
   "cell_type": "code",
   "execution_count": null,
   "metadata": {},
   "outputs": [],
   "source": [
    "# Identification via data type - comparison of data type with column content\n",
    "# Check for synonyms\n",
    "df_part4.dtypes "
   ]
  },
  {
   "cell_type": "code",
   "execution_count": null,
   "metadata": {},
   "outputs": [],
   "source": [
    "# converting to int datatype also doesnt not raise any kind of error\n",
    "list1=['funded_amount','loan_amount','term_in_months']\n",
    "\n",
    "for i in list1:\n",
    "    pd.to_numeric(df_part4[i], errors='raise')    "
   ]
  },
  {
   "cell_type": "markdown",
   "metadata": {},
   "source": [
    "<B> Conclusion </B>\n",
    "\n",
    "- The columns \"funded_amount\", \"loan_amount\" and \"term_in_months\" have float values and datatype is also float64. With the analysis of the describe function and the usage of to_numeric, we can say that these columns do not contain any synonyms. \n",
    "- The columns \"activity\", \"sector\", \"use\", \"country_code\", \"country\", \"region\", \"currency\", \"borrower_genders\", \"repayment_interval\" have string values and the datatype is object. We need to inspect these columns further.\n",
    "- \"lender_count\" has data type int and contains integer values. So this column is also fine and does not contain any synonyms."
   ]
  },
  {
   "cell_type": "code",
   "execution_count": null,
   "metadata": {},
   "outputs": [],
   "source": [
    "# check whether the column \"activity\" contains a synonym\n",
    "df_part4.activity.unique()"
   ]
  },
  {
   "cell_type": "code",
   "execution_count": null,
   "metadata": {},
   "outputs": [],
   "source": [
    "# check whether the column \"sector\" contains a synonym\n",
    "df_part4.sector.unique()"
   ]
  },
  {
   "cell_type": "code",
   "execution_count": null,
   "metadata": {},
   "outputs": [],
   "source": [
    "# check whether the column \"use\" contains a synonym\n",
    "df_part4.use.unique()"
   ]
  },
  {
   "cell_type": "code",
   "execution_count": null,
   "metadata": {},
   "outputs": [],
   "source": [
    "# check whether the column \"country_code\" contains a synonym\n",
    "df_part4.country_code.unique()"
   ]
  },
  {
   "cell_type": "code",
   "execution_count": null,
   "metadata": {},
   "outputs": [],
   "source": [
    "# check whether the column \"country\" contains a synonym\n",
    "df_part4.country.unique()"
   ]
  },
  {
   "cell_type": "code",
   "execution_count": null,
   "metadata": {},
   "outputs": [],
   "source": [
    "# check whether the column \"region\" contains a synonym\n",
    "df_part4.region.unique()"
   ]
  },
  {
   "cell_type": "code",
   "execution_count": null,
   "metadata": {},
   "outputs": [],
   "source": [
    "# check whether the column \"currency\" contains a synonym\n",
    "df_part4.currency.unique()"
   ]
  },
  {
   "cell_type": "code",
   "execution_count": null,
   "metadata": {},
   "outputs": [],
   "source": [
    "# check whether the column \"borrower_genders\" contains a synonym\n",
    "df_part4.borrower_genders.unique()"
   ]
  },
  {
   "cell_type": "code",
   "execution_count": null,
   "metadata": {},
   "outputs": [],
   "source": [
    "# check whether the column \"repayment_interval\" contains a synonym\n",
    "df_part4.repayment_interval.unique()"
   ]
  },
  {
   "cell_type": "markdown",
   "metadata": {},
   "source": [
    "<B> Conclusion </B>\n",
    "\n",
    "- After the analysis of the columns \"activity\", \"sector\", \"use\", \"country_code\", \"country\", \"region\", \"currency\", \"borrower_genders\" and \"repayment_interval\", we can conclude that these do not contain any synonyms."
   ]
  },
  {
   "cell_type": "markdown",
   "metadata": {},
   "source": [
    "<H4> Find out the NA values </H4>"
   ]
  },
  {
   "cell_type": "code",
   "execution_count": null,
   "metadata": {},
   "outputs": [],
   "source": [
    "# check the total count of the NA values in each column\n",
    "df_part4.isnull().sum()"
   ]
  },
  {
   "cell_type": "markdown",
   "metadata": {},
   "source": [
    "<B> Conclusion </B>\n",
    "\n",
    "- The columns \"use\", \"region\", \"country_code\" and \"borrower_genders\" have null values. We need to inspect these columns further."
   ]
  },
  {
   "cell_type": "markdown",
   "metadata": {},
   "source": [
    "<H4> Replace the NA values </H4>"
   ]
  },
  {
   "cell_type": "code",
   "execution_count": null,
   "metadata": {},
   "outputs": [],
   "source": [
    "# check for which country country_code is NA value\n",
    "df_part4.loc[df_part4.country_code.isnull()]"
   ]
  },
  {
   "cell_type": "code",
   "execution_count": null,
   "metadata": {},
   "outputs": [],
   "source": [
    "# The country code of Namibia is NA, assign the same to the country_code column where the country is Namibia\n",
    "df_part4.loc[df_part4.country_code.isnull() & (df_part4.country == 'Namibia'),\n",
    "             ['country_code']] = 'NA'"
   ]
  },
  {
   "cell_type": "code",
   "execution_count": null,
   "metadata": {},
   "outputs": [],
   "source": [
    "# check the dataframe for the remaining NA values\n",
    "df_part4.isnull().sum()"
   ]
  },
  {
   "cell_type": "markdown",
   "metadata": {},
   "source": [
    "<B> Conclusion </B>\n",
    "\n",
    "- The columns \"use\", \"region\"and \"borrower_genders\" have null values. We need to inspect these columns further.\n",
    "- The null values in column \"use\" are 0.06% of the total values. These can be replaced with empty strings."
   ]
  },
  {
   "cell_type": "code",
   "execution_count": null,
   "metadata": {},
   "outputs": [],
   "source": [
    "# The null values in column \"use\" are 0.06% of the total values. These can be replaced with empty strings.\n",
    "df_part4.loc[df_part4.use.isnull(), ['use']] = ''"
   ]
  },
  {
   "cell_type": "code",
   "execution_count": null,
   "metadata": {},
   "outputs": [],
   "source": [
    "# check the dataframe for the remaining NA values\n",
    "df_part4.isnull().sum()"
   ]
  },
  {
   "cell_type": "markdown",
   "metadata": {},
   "source": [
    "<B> Conclusion </B>\n",
    "\n",
    "- The columns \"region\" and \"borrower_genders\" have null values. We need to inspect these columns further.\n",
    "- The null values in column \"region\" are 8.6% of the total values. These can be replaced with the most occuring region for a specific country."
   ]
  },
  {
   "cell_type": "code",
   "execution_count": null,
   "metadata": {},
   "outputs": [],
   "source": [
    "# check for which countries, the region is null, sort by ascending order\n",
    "for i in df_part4.loc[df_part4.region.isnull(), ['country']].value_counts().index:\n",
    "        try:\n",
    "            # replace NA value with the most occuring region for a specific country\n",
    "            str1 = df_part4.loc[df_part4.country == i[0], 'region'].value_counts().idxmax()\n",
    "            df_part4.loc[df_part4.region.isnull() & (df_part4.country == i[0]),\n",
    "             ['region']] = str1\n",
    "        except:\n",
    "            # in case of any error, replace with an empty string\n",
    "            df_part4.loc[df_part4.region.isnull() & (df_part4.country == i[0]),\n",
    "             ['region']] = \"\""
   ]
  },
  {
   "cell_type": "code",
   "execution_count": null,
   "metadata": {},
   "outputs": [],
   "source": [
    "df_part4.isnull().sum()"
   ]
  },
  {
   "cell_type": "markdown",
   "metadata": {},
   "source": [
    "<B> Conclusion </B>\n",
    "\n",
    "- The columns \"borrower_genders\" has null values. We need to inspect this column further.\n",
    "- The null values in column \"borrower_genders\" are 0.06% of the total values. These can be left as it is and a new column can be created depending on this column called \"borrower_count\"."
   ]
  },
  {
   "cell_type": "code",
   "execution_count": null,
   "metadata": {},
   "outputs": [],
   "source": [
    "# Depending on the column \"borrower_genders\", create one more column \"borrower_count\" which contains the total no. of borrowers.\n",
    "male_list = []\n",
    "female_list = []\n",
    "for i in df_part4.borrower_genders:\n",
    "    try:\n",
    "        str1 = i.split(\", \")\n",
    "        male_list.append(str1.count('male'))\n",
    "        female_list.append(str1.count('female'))\n",
    "    except: \n",
    "        # in case of exception, append NAN values\n",
    "        male_list.append(np.nan)\n",
    "        female_list.append(np.nan)    \n",
    "df_female = pd.DataFrame(female_list)\n",
    "df_male = pd.DataFrame(male_list) \n",
    "df_part4['borrower_count'] = df_female +  df_male \n",
    "\n",
    "# The missing values in column \"borrower_count\" can be replaced with 1 as there will be atleast 1 borrower for all these cases\n",
    "df_part4.loc[df_part4.borrower_count.isnull(), ['borrower_count']] = 1\n",
    "\n",
    "df_part4.head()"
   ]
  },
  {
   "cell_type": "markdown",
   "metadata": {},
   "source": [
    "<H2> Memory usage optimization </H2>"
   ]
  },
  {
   "cell_type": "code",
   "execution_count": null,
   "metadata": {},
   "outputs": [],
   "source": [
    "# find out the memory usage of each column in bytes\n",
    "df_part4.memory_usage(deep=True)"
   ]
  },
  {
   "cell_type": "code",
   "execution_count": null,
   "metadata": {},
   "outputs": [],
   "source": [
    "df_part4.info()"
   ]
  },
  {
   "cell_type": "code",
   "execution_count": null,
   "metadata": {},
   "outputs": [],
   "source": [
    "# for further optimization, convert the types of column with string values to category\n",
    "list1 = ['activity', 'sector', 'use', 'country_code', 'country', 'region', 'currency', 'borrower_genders','repayment_interval']\n",
    "\n",
    "for i  in list1:\n",
    "    df_part4[i] = df_part4[i].astype('category')"
   ]
  },
  {
   "cell_type": "code",
   "execution_count": null,
   "metadata": {},
   "outputs": [],
   "source": [
    "list1=['funded_amount','loan_amount','term_in_months','borrower_count']\n",
    "\n",
    "for i in list1:\n",
    "    df_part4[i] = pd.to_numeric(df_part4[i], errors='coerce', downcast='integer')\n",
    "    \n",
    "df_part4.info()"
   ]
  },
  {
   "cell_type": "markdown",
   "metadata": {},
   "source": [
    "<B> Conclusion </B>\n",
    "\n",
    "- The memory usage has been reduced from 74 MB to 50.3 MB. A reduction of 32% has been achieved."
   ]
  },
  {
   "cell_type": "markdown",
   "metadata": {},
   "source": [
    "<H2> Visualisation </H2>"
   ]
  },
  {
   "cell_type": "markdown",
   "metadata": {},
   "source": [
    "<H3> Sunburst plot </H3>"
   ]
  },
  {
   "cell_type": "markdown",
   "metadata": {},
   "source": [
    "<H4> Create a new column for success rate </H4>"
   ]
  },
  {
   "cell_type": "code",
   "execution_count": null,
   "metadata": {},
   "outputs": [],
   "source": [
    "# Create a new column success\n",
    "df_part4[\"Success_Rate\"] = df_part4[\"funded_amount\"] / df_part4[\"loan_amount\"]       "
   ]
  },
  {
   "cell_type": "code",
   "execution_count": null,
   "metadata": {},
   "outputs": [],
   "source": [
    "df_part4.describe()"
   ]
  },
  {
   "cell_type": "code",
   "execution_count": null,
   "metadata": {},
   "outputs": [],
   "source": [
    "# Where the success ratio is more than 1, consider it as a big success of the project\n",
    "# where it is 1, consider that as the target achieved.\n",
    "# where it is 0.9 to 1, consider it as nearing the target.\n",
    "# where it is below 0.9, consider it as failed.\n",
    "# calculate the success rate for each respective countries\n",
    "list1 = []\n",
    "for i in df_part4[\"Success_Rate\"]:\n",
    "    if(i > 1):\n",
    "        list1.append(\"Big Success\")\n",
    "    elif(i == 1):\n",
    "        list1.append(\"Target achieved\")\n",
    "    elif(0.90 < i < 1):\n",
    "        list1.append(\"Near the target\")\n",
    "    else:\n",
    "        list1.append(\"Failed\")        \n",
    "df_part4['success'] = list1"
   ]
  },
  {
   "cell_type": "code",
   "execution_count": null,
   "metadata": {},
   "outputs": [],
   "source": [
    "# find out where the success_rate is highest\n",
    "df_part4.loc[df_part4.success == \"Big Success\"]"
   ]
  },
  {
   "cell_type": "code",
   "execution_count": null,
   "metadata": {},
   "outputs": [],
   "source": [
    "df_sunburst = df_part4.groupby([\"success\",\"sector\",\"activity\"]).agg({\"funded_amount\":np.mean, \"Success_Rate\":np.mean, \"lender_count\":np.mean})\n",
    "df_sunburst.reset_index(inplace=True)"
   ]
  },
  {
   "cell_type": "code",
   "execution_count": null,
   "metadata": {},
   "outputs": [],
   "source": [
    "# Create a sunburst chart to find out the distribution of the funded amount \n",
    "# and the success rate for various sectors and activities\n",
    "fig1 = px.sunburst(df_sunburst,\n",
    "                  path=['success','sector', 'activity'],\n",
    "                  values='funded_amount',\n",
    "                  color='success',\n",
    "                  hover_data=[\"Success_Rate\", \"lender_count\"],\n",
    "                  color_discrete_sequence=[\"pink\", \"green\", \"yellow\", \"red\"],\n",
    "              title=\"Funded amount, lender count and the success ratio of the crowdfunding of the various sectors and activities\")\n",
    "fig1.update_layout(paper_bgcolor=\"#fcfae8\", font_color=\"blue\")\n",
    "fig1.show()\n"
   ]
  },
  {
   "cell_type": "markdown",
   "metadata": {},
   "source": [
    "<B> Conclusion </B>\n",
    "\n",
    "- more than 100% - \"Big Success\"\n",
    "- 100% - \"Target achieved\"\n",
    "- 90% to 100% - \"Near the target\"\n",
    "- \"Failed\" \n",
    "- 80% of the funded amount has been used for projects which have achieved the target or are near the target.\n",
    "- Food, Services and Retail are the sectors which have recieved a large share of the funds and have good success ratio also. \n",
    "- Renewable Energy Products is an activity where lots of investors are interested in putting there money in and this activity has a good success ratio also. So if one is looking to start a new business, i would highly recommend renewable energy products. \n",
    "- The crowd funding projects have been very successful in the activites \"Farm Supplies\" and \"General Store\".\n"
   ]
  },
  {
   "cell_type": "markdown",
   "metadata": {},
   "source": [
    "<H2> Bar plot </H2>"
   ]
  },
  {
   "cell_type": "code",
   "execution_count": null,
   "metadata": {},
   "outputs": [],
   "source": [
    "# find out the average no. of lenders and borrowers depending on the repayment interval and term in months\n",
    "df_borrower = df_part4.groupby([\"repayment_interval\",\"term_in_months\"]).agg({\"lender_count\":np.mean, \"borrower_count\":np.mean})\n",
    "df_borrower.reset_index(inplace=True)"
   ]
  },
  {
   "cell_type": "code",
   "execution_count": null,
   "metadata": {},
   "outputs": [],
   "source": [
    "# Create the categories for no. of borrowers\n",
    "kategorien = ['less','average','more']\n",
    "\n",
    "max_value = df_borrower['borrower_count'].max()\n",
    "min_value = df_borrower['borrower_count'].min()\n",
    "einteilung = [0,5,10,max_value]\n",
    "\n",
    "df_borrower['Borrowers'] = pd.cut(df_borrower['borrower_count'], bins=einteilung, labels=kategorien)"
   ]
  },
  {
   "cell_type": "code",
   "execution_count": null,
   "metadata": {},
   "outputs": [],
   "source": [
    "# Create the categories for years\n",
    "kategorien = ['< 1','between 1 and 3','between 3 and 5','between 5 and 10','more than 10']\n",
    "max_value = df_borrower['term_in_months'].max()\n",
    "einteilung = [0,12,36,60,120,max_value]\n",
    "\n",
    "df_borrower['Years'] = pd.cut(df_borrower['term_in_months'], bins=einteilung, labels=kategorien)"
   ]
  },
  {
   "cell_type": "code",
   "execution_count": null,
   "metadata": {},
   "outputs": [],
   "source": [
    "# Create a plot to find out the average no. of lenders and borrowers depending on the repayment interval \n",
    "# and term in months\n",
    "fig = px.bar(df_borrower,\n",
    "                 x=\"Borrowers\",\n",
    "                 y=\"lender_count\",\n",
    "                 facet_col=\"repayment_interval\",\n",
    "                 color=\"Years\",\n",
    "                 hover_data=['borrower_count','term_in_months'],\n",
    "                 title=\"Average no. of lenders and borrowers depending on the repayment interval and term in months\", log_y = True)\n",
    "\n",
    "fig.update_layout(paper_bgcolor=\"#fcfae8\")\n",
    "fig.show()"
   ]
  },
  {
   "cell_type": "markdown",
   "metadata": {},
   "source": [
    "<B> Conclusion </B>\n",
    "\n",
    "- Here we have analysed how the interest of the lenders and borrowers is varyin depending on the \"repayment interval\" and the \"term in months\". \n",
    "- Very few lenders and borrowers are interested when the repayment interval is weekly and term is less than 1 year.\n",
    "- Lender count is going high when the repayment interval is irregular and terms in months is increasing.\n",
    "- When the \"repayment interval\" is bullet and monthly, the lenders are more interested when the \"terms in months\" is less."
   ]
  },
  {
   "cell_type": "markdown",
   "metadata": {},
   "source": [
    "<H3> Choropleth plot </H3>"
   ]
  },
  {
   "cell_type": "markdown",
   "metadata": {},
   "source": [
    "<H4> Create a new column for iso country codes </H4>"
   ]
  },
  {
   "cell_type": "code",
   "execution_count": null,
   "metadata": {},
   "outputs": [],
   "source": [
    "# Read  the csv file with the iso country codes into the DataFrame\n",
    "df_part5 = pd.read_csv(filepath_or_buffer=\"iso-country-codes.csv\",\n",
    "                       sep=',',\n",
    "                       engine='python')  # engine='python' da sonst Warning exxrhält\n",
    "df_part5.head()"
   ]
  },
  {
   "cell_type": "code",
   "execution_count": null,
   "metadata": {},
   "outputs": [],
   "source": [
    "# Create a new column \"iso_alpha\" with the iso country codes for each respective country\n",
    "\n",
    "df_part5.drop(['Numeric code','ISO 3166-2'],axis=1,inplace=True)\n",
    "df_part5.rename(mapper={'English short name lower case':'Name','Alpha-2 code': 'XX','Alpha-3 code':'XXX'}, axis=1, copy=True, inplace=True)\n",
    "\n",
    "df_part4['iso_alpha']=df_part4.country_code.map(df_part5.set_index('XX')['XXX'])\n",
    "df_part4[df_part4['iso_alpha'].isnull()].groupby('country').count()\n",
    "\n",
    "df_part4['iso_alpha'][df_part4['country']=='Kosovo']='KOS'\n",
    "df_part4['iso_alpha'][df_part4['country']=='South Sudan']='SSD'\n",
    "df_part4['iso_alpha'][df_part4['country']=='Namibia']='NAM'"
   ]
  },
  {
   "cell_type": "code",
   "execution_count": null,
   "metadata": {},
   "outputs": [],
   "source": [
    "# Create the dataframe \n",
    "df_success_rate = df_part4.groupby([\"iso_alpha\"]).agg({'Success_Rate':np.mean,'funded_amount': np.sum})\n",
    "df_success_rate.sort_values(by=\"Success_Rate\", ascending=False)\n",
    "\n",
    "# Create a new column success\n",
    "list1 = []\n",
    "for i in df_success_rate.Success_Rate:\n",
    "    if(i > 1):\n",
    "        list1.append(\"Big Success\")\n",
    "    elif(i == 1):\n",
    "        list1.append(\"Target achieved\")\n",
    "    elif(0.90 < i < 1):\n",
    "        list1.append(\"Near the target\")\n",
    "    else:\n",
    "        list1.append(\"Failed\")       \n",
    "df_success_rate['success'] = list1       \n",
    "df_success_rate.reset_index(inplace=True)"
   ]
  },
  {
   "cell_type": "code",
   "execution_count": null,
   "metadata": {},
   "outputs": [],
   "source": [
    "df_success_rate.sort_values(by=\"funded_amount\", ascending=False)"
   ]
  },
  {
   "cell_type": "code",
   "execution_count": null,
   "metadata": {},
   "outputs": [],
   "source": [
    "# plot the graph to see how much the crowd funding has been successful in each country\n",
    "px.choropleth(df_success_rate,\n",
    "              locations=\"iso_alpha\",\n",
    "              color=\"success\",\n",
    "              hover_name=\"iso_alpha\",\n",
    "              hover_data=['Success_Rate', 'funded_amount'],\n",
    "              title=\"Success ratio and funded amount per country\",\n",
    "              color_discrete_sequence=[\"green\", \"yellow\", \"red\"],\n",
    "              labels={\"success_rate\": \"Success Rate\"})"
   ]
  },
  {
   "attachments": {
    "p.png": {
     "image/png": "[encoded data removed]"
    }
   },
   "cell_type": "markdown",
   "metadata": {},
   "source": [
    "<B> Conclusion </B>\n",
    "![p.png](attachment:p.png)\n",
    "- The crowd funding projects have been very successful in most of the countries in \"Asia\" and \"Africa\".\n",
    "- In \"North America\", we can see more red zones.\n",
    "- So we can see, in africa, asia and south america, we have \"reached the targets\" or are \"near the targets\" in comparison to North America. \n",
    "- we see more crowdfunding projects in asia, africa and south america than europe, ocenia  and usa. \n",
    "- This may be due to many Philanthropic organisations supporting crowdfunding and investing in Africa, asia and south america.\n",
    "- As we can see for the chart below, the GDP per capita is lowest in Asia, South America and Africa.\n",
    "- Crowdfunding projects are more required here as people can't make more regular payments due to less regular income as more people are involved in unorganised sectors, so loans from banks doesn't work much here.\n",
    "- Philipinnes and Kenya has got the maximum funded amount."
   ]
  },
  {
   "cell_type": "code",
   "execution_count": null,
   "metadata": {},
   "outputs": [],
   "source": []
  }
 ],
 "metadata": {
  "kernelspec": {
   "display_name": "Python 3",
   "language": "python",
   "name": "python3"
  },
  "language_info": {
   "codemirror_mode": {
    "name": "ipython",
    "version": 3
   },
   "file_extension": ".py",
   "mimetype": "text/x-python",
   "name": "python",
   "nbconvert_exporter": "python",
   "pygments_lexer": "ipython3",
   "version": "3.8.5"
  },
  "toc": {
   "base_numbering": 1,
   "nav_menu": {},
   "number_sections": true,
   "sideBar": true,
   "skip_h1_title": false,
   "title_cell": "Table of Contents",
   "title_sidebar": "Contents",
   "toc_cell": false,
   "toc_position": {
    "height": "calc(100% - 180px)",
    "left": "10px",
    "top": "150px",
    "width": "384px"
   },
   "toc_section_display": true,
   "toc_window_display": true
  },
  "varInspector": {
   "cols": {
    "lenName": 16,
    "lenType": 16,
    "lenVar": 40
   },
   "kernels_config": {
    "python": {
     "delete_cmd_postfix": "",
     "delete_cmd_prefix": "del ",
     "library": "var_list.py",
     "varRefreshCmd": "print(var_dic_list())"
    },
    "r": {
     "delete_cmd_postfix": ") ",
     "delete_cmd_prefix": "rm(",
     "library": "var_list.r",
     "varRefreshCmd": "cat(var_dic_list()) "
    }
   },
   "position": {
    "height": "303px",
    "left": "1521px",
    "right": "20px",
    "top": "124px",
    "width": "350px"
   },
   "types_to_exclude": [
    "module",
    "function",
    "builtin_function_or_method",
    "instance",
    "_Feature"
   ],
   "window_display": false
  }
 },
 "nbformat": 4,
 "nbformat_minor": 4
}
